{
 "cells": [
  {
   "cell_type": "markdown",
   "id": "75e363bc-4eb3-4240-8fa5-e9b290a660d9",
   "metadata": {},
   "source": [
    "# Data cleaning\n",
    "\n",
    "As menthioned in the exploratory analysis notebook, we'll be using a subset of the original dataset (includes data for 45 taxis for the entire year) for subsequent studies. We'll first clean the data.\n",
    "\n",
    "### Load the dataset\n",
    "First let's take a quick look at the data:"
   ]
  },
  {
   "cell_type": "code",
   "execution_count": null,
   "id": "5e9804b9-7c5e-4e7b-a451-3cb77da2039b",
   "metadata": {},
   "outputs": [],
   "source": [
    "import pandas as pd\n",
    "\n",
    "df_raw = pd.read_pickle('subset_data.pkl')\n",
    "df_raw.head()"
   ]
  },
  {
   "cell_type": "code",
   "execution_count": null,
   "id": "763f61d4-aac4-4b25-9650-54302f30c3f2",
   "metadata": {},
   "outputs": [],
   "source": [
    "### "
   ]
  }
 ],
 "metadata": {
  "kernelspec": {
   "display_name": "Python 3 (ipykernel)",
   "language": "python",
   "name": "python3"
  },
  "language_info": {
   "codemirror_mode": {
    "name": "ipython",
    "version": 3
   },
   "file_extension": ".py",
   "mimetype": "text/x-python",
   "name": "python",
   "nbconvert_exporter": "python",
   "pygments_lexer": "ipython3",
   "version": "3.9.19"
  }
 },
 "nbformat": 4,
 "nbformat_minor": 5
}
