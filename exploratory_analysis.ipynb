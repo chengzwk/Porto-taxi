{
 "cells": [
  {
   "cell_type": "markdown",
   "id": "cb8d2250-431c-48d7-aba9-3ddd3723fe13",
   "metadata": {},
   "source": [
    "# Exploratory analysis on the original data\n",
    "\n",
    "As the first step of the project, we perform an exploratory analysis on the original data. \n",
    "\n",
    "### Dataset\n",
    "- Basic information about the dataset: This dataset describes a complete year (from 01/07/2013 to 30/06/2014) of the trajectories for all the 442 taxis running in the city of Porto, in Portugal (i.e. one CSV file named \"train.csv\").\n",
    "- Detailed information can be found on the [dataset page](https://www.kaggle.com/datasets/crailtap/taxi-trajectory/data).\n",
    "\n",
    "### Load the dataset\n",
    "Open \"train.csv\" with a text editor (in my case TextEdit on MacOS), we can see the file already contains a header row. The data is separated by comma."
   ]
  },
  {
   "cell_type": "code",
   "execution_count": null,
   "id": "d614d58a-5a2c-4019-b664-4f212ab036cd",
   "metadata": {},
   "outputs": [],
   "source": [
    "import pandas as pd\n",
    "\n",
    "raw_data = pd.read_csv('train.csv', sep=',')"
   ]
  },
  {
   "cell_type": "markdown",
   "id": "e7d4833b-1741-4cf3-813a-0d11acc9e38d",
   "metadata": {},
   "source": [
    "### Inspect the data\n",
    "We can inspect the data in the following way:"
   ]
  },
  {
   "cell_type": "code",
   "execution_count": null,
   "id": "119f30c1-f255-475f-9366-17f071a01865",
   "metadata": {},
   "outputs": [],
   "source": [
    "raw_data.info()"
   ]
  },
  {
   "cell_type": "code",
   "execution_count": null,
   "id": "c3f0b1e1-f962-4009-be26-e79baf671e6b",
   "metadata": {},
   "outputs": [],
   "source": [
    "raw_data.describe()"
   ]
  },
  {
   "cell_type": "markdown",
   "id": "eb44e40c-601c-4589-b269-202e296b9d63",
   "metadata": {},
   "source": [
    "We can see that there're entries in total. The minimum and maximum timestamp value is and , respectively. The timestamp is Unix Timestamp (in seconds), we can convert it to a readable format by:"
   ]
  },
  {
   "cell_type": "code",
   "execution_count": null,
   "id": "fe4c84ae-4f74-49d9-b27d-903c6058154e",
   "metadata": {},
   "outputs": [],
   "source": [
    "dt_start = datetime.datetime.fromtimestamp(1.372637e+09)\n",
    "dt_end = datetime.datetime.fromtimestamp(1.372637e+09)\n",
    "print(\"start time is {}, end time is {}\".format(dt_start, dt_end)"
   ]
  },
  {
   "cell_type": "markdown",
   "id": "11f12a65-ed10-41f9-afe9-b73ca970b286",
   "metadata": {},
   "source": [
    "We can see that the data starts from and end on, in agreement with the dataset description. By looking at the summary of 'timestamp' column, we can also see that the data is roughly evenly distributed throughout the year."
   ]
  },
  {
   "cell_type": "code",
   "execution_count": null,
   "id": "056a3068-85c7-444d-a8e3-e901e7cfaf9b",
   "metadata": {},
   "outputs": [],
   "source": [
    "We can check the number of different taxis included in this dataset by:"
   ]
  },
  {
   "cell_type": "code",
   "execution_count": null,
   "id": "18d302a8-0dca-40f0-9774-f1b15b1b8b9b",
   "metadata": {},
   "outputs": [],
   "source": [
    "raw_data['TAXI_ID'].nunique()"
   ]
  }
 ],
 "metadata": {
  "kernelspec": {
   "display_name": "Python 3 (ipykernel)",
   "language": "python",
   "name": "python3"
  },
  "language_info": {
   "codemirror_mode": {
    "name": "ipython",
    "version": 3
   },
   "file_extension": ".py",
   "mimetype": "text/x-python",
   "name": "python",
   "nbconvert_exporter": "python",
   "pygments_lexer": "ipython3",
   "version": "3.9.19"
  }
 },
 "nbformat": 4,
 "nbformat_minor": 5
}
