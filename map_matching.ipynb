{
 "cells": [
  {
   "cell_type": "markdown",
   "id": "fc51c976-61d4-411f-98d3-a9f4a4678cdd",
   "metadata": {},
   "source": [
    "# Map matching\n",
    "We have cleaned our data, now we can start our study on the taxi GPS trajectories. Our first step is to perform **map-matching** on the GPS trajectory data to get the corrected GPS coordinates and the road ID sequence for each trajectory.\n",
    "\n",
    "### What is map matching\n",
    "Map matching is the process of aligning raw GPS data points with a known road network to determine the most likely path traveled. Since GPS readings can be imprecise due to various factors, map-matching algorithms help improve accuracy by snapping these points to the road network. Techniques vary from geometric approaches to more advanced probabilistic models like Hidden Markov Models (HMM), which account for both the GPS noise and the logical connectivity of roads.\n",
    "\n",
    "### Map matching with Valhalla's Meili\n",
    "The map matching tool we'll be using is **Valhalla's Meili**. [Valhalla](https://valhalla.github.io/valhalla/) is an open source routing engine and accompanying libraries for use with OpenStreetMap data. [Meili](https://valhalla.github.io/valhalla/api/map-matching/api-reference/) is Valhalla's map matching service that aligns GPS traces to known roads or paths by comparing raw location data to OpenStreetMap's detailed road network. It can handle large-scale spatial data and is optimized for high-performance processing, making it ideal for applications like traffic analysis or location-based services.\n",
    "\n",
    "### Setting up Valhalla on my machine\n",
    "I mainly followed these two articles ([link1](https://ikespand.github.io/posts/meili/?source=post_page-----4ea6b1c88a4c--------------------------------), [link2](https://nickdoulos.com/posts/map-matching/)) to set up and run Valhalla server with docker on my Mac. "
   ]
  },
  {
   "cell_type": "markdown",
   "id": "0592384d-bc8c-4b44-ac5f-7e33fe429ca5",
   "metadata": {},
   "source": [
    "# Open Street Map"
   ]
  },
  {
   "cell_type": "markdown",
   "id": "508fa76a-4162-49c6-b9a8-97eb4efe9491",
   "metadata": {},
   "source": [
    "# Map matching demonstration\n",
    "In this project, we'll use map matching for two purposes:\n",
    "- get GPS trace that are snapped to the actual roads\n",
    "- get the trajectory sequence (the sequence of road ID) of each trip\n",
    "\n",
    "Let's go through the process of map matching for one taxi GPS trace with Valhalla's Meili for demonstration. "
   ]
  },
  {
   "cell_type": "code",
   "execution_count": null,
   "id": "47051f4e-a7eb-4824-90b0-00fc42bae1e4",
   "metadata": {},
   "outputs": [
    {
     "name": "stdout",
     "output_type": "stream",
     "text": [
      "The history saving thread hit an unexpected error (OperationalError('attempt to write a readonly database')).History will not be written to the database.\n"
     ]
    }
   ],
   "source": [
    "import pandas as pd\n",
    "\n",
    "# Read clean data file\n",
    "df = pd.read_pickle('clean_data.pkl')\n",
    "df.head()"
   ]
  },
  {
   "cell_type": "code",
   "execution_count": null,
   "id": "7524e11e-4ffa-4ad8-9441-b1846e9479a3",
   "metadata": {},
   "outputs": [],
   "source": []
  }
 ],
 "metadata": {
  "kernelspec": {
   "display_name": "Python 3 (ipykernel)",
   "language": "python",
   "name": "python3"
  },
  "language_info": {
   "codemirror_mode": {
    "name": "ipython",
    "version": 3
   },
   "file_extension": ".py",
   "mimetype": "text/x-python",
   "name": "python",
   "nbconvert_exporter": "python",
   "pygments_lexer": "ipython3",
   "version": "3.9.19"
  }
 },
 "nbformat": 4,
 "nbformat_minor": 5
}
