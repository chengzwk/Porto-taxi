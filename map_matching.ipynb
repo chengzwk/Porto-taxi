{
 "cells": [
  {
   "cell_type": "markdown",
   "id": "fc51c976-61d4-411f-98d3-a9f4a4678cdd",
   "metadata": {},
   "source": [
    "# Map matching\n",
    "We have cleaned our data, now we can start our study on the taxi GPS trajectories. Our first step is to perform **map-matching** on the GPS trajectory data to get the corrected GPS coordinates and the road ID sequence for each trajectory.\n",
    "\n",
    "### What is map matching\n",
    "Map matching is the process of aligning raw GPS data points with a known road network to determine the most likely path traveled. Since GPS readings can be imprecise due to various factors, map-matching algorithms help improve accuracy by snapping these points to the road network. Techniques vary from geometric approaches to more advanced probabilistic models like Hidden Markov Models (HMM), which account for both the GPS noise and the logical connectivity of roads.\n",
    "\n",
    "### Map matching with Valhalla's Meili\n",
    "The map matching tool we'll be using is **Valhalla's Meili**. [Valhalla](https://valhalla.github.io/valhalla/) is an open source routing engine and accompanying libraries for use with OpenStreetMap data. [Meili](https://valhalla.github.io/valhalla/api/map-matching/api-reference/) is Valhalla's map matching service that aligns GPS traces to known roads or paths by comparing raw location data to OpenStreetMap's detailed road network. It can handle large-scale spatial data and is optimized for high-performance processing, making it ideal for applications like traffic analysis or location-based services."
   ]
  },
  {
   "cell_type": "code",
   "execution_count": null,
   "id": "59a0043e-72a1-49a8-8383-b1b4d2f2e8ec",
   "metadata": {},
   "outputs": [],
   "source": []
  }
 ],
 "metadata": {
  "kernelspec": {
   "display_name": "Python 3 (ipykernel)",
   "language": "python",
   "name": "python3"
  },
  "language_info": {
   "codemirror_mode": {
    "name": "ipython",
    "version": 3
   },
   "file_extension": ".py",
   "mimetype": "text/x-python",
   "name": "python",
   "nbconvert_exporter": "python",
   "pygments_lexer": "ipython3",
   "version": "3.9.19"
  }
 },
 "nbformat": 4,
 "nbformat_minor": 5
}
